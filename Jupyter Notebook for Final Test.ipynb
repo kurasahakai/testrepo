{
    "cells": [
        {
            "cell_type": "markdown",
            "metadata": {
                "collapsed": true
            },
            "source": "# My Jupyter Notebook on IBM Watson Studio"
        },
        {
            "cell_type": "markdown",
            "metadata": {},
            "source": "**Devid Mazzaferro**"
        },
        {
            "cell_type": "markdown",
            "metadata": {},
            "source": "*My interest in data science stems from my work as an astronomer. Throughout my academic studies I found out I was particularly interested in data and how to better convey it to others.*"
        },
        {
            "cell_type": "markdown",
            "metadata": {},
            "source": "### The code in Cell 5 will print out \"My Jupyter Notebook\""
        },
        {
            "cell_type": "code",
            "execution_count": 2,
            "metadata": {},
            "outputs": [
                {
                    "name": "stdout",
                    "output_type": "stream",
                    "text": "My Jupyter Notebook\n"
                }
            ],
            "source": "print(\"My Jupyter Notebook\")"
        },
        {
            "cell_type": "markdown",
            "metadata": {},
            "source": "___\n1. This is the first element of a numbered list\n  1. This is a subelement of the first element of the list\n2. This is the second element of a numbered list\n3. This is the third element of a numbered list\n___\n|Col 1|Col 2|Col 3|\n|-----|-----|-----|\n|Row 2|Row 2|Row 2|\n|Row 3|Row 3|Row 3|\n___\n\n[This is a link to www.google.com](https://www.google.com)\n"
        },
        {
            "cell_type": "code",
            "execution_count": null,
            "metadata": {},
            "outputs": [],
            "source": ""
        }
    ],
    "metadata": {
        "kernelspec": {
            "display_name": "Python 3.10",
            "language": "python",
            "name": "python3"
        },
        "language_info": {
            "codemirror_mode": {
                "name": "ipython",
                "version": 3
            },
            "file_extension": ".py",
            "mimetype": "text/x-python",
            "name": "python",
            "nbconvert_exporter": "python",
            "pygments_lexer": "ipython3",
            "version": "3.10.6"
        }
    },
    "nbformat": 4,
    "nbformat_minor": 1
}